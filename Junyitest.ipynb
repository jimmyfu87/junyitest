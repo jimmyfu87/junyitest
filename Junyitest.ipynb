{
 "cells": [
  {
   "cell_type": "markdown",
   "metadata": {},
   "source": [
    "## (A) 請寫一個程式把裡面的字串反過來。\n",
    "## (B) 請寫一個程式把裡面的字串，\n",
    "## 每個單字本身做反轉，但是單字的順序不變。\n",
    "## (加分題) 請為你的程式寫 unit test。\n"
   ]
  },
  {
   "cell_type": "code",
   "execution_count": 1,
   "metadata": {},
   "outputs": [],
   "source": [
    "def questionA(input):\n",
    "    result=''\n",
    "    for i in range(1,len(input)+1):\n",
    "        result=result+input[-i]\n",
    "    return result    "
   ]
  },
  {
   "cell_type": "code",
   "execution_count": 2,
   "metadata": {},
   "outputs": [
    {
     "data": {
      "text/plain": [
       "'ymmij'"
      ]
     },
     "execution_count": 2,
     "metadata": {},
     "output_type": "execute_result"
    }
   ],
   "source": [
    "questionA('jimmy')"
   ]
  },
  {
   "cell_type": "code",
   "execution_count": 3,
   "metadata": {},
   "outputs": [],
   "source": [
    "def questionB(input):\n",
    "    #將輸入字串根據空格切成list\n",
    "    split_list=input.split(' ')\n",
    "    #分別反轉\n",
    "    result=questionA(split_list[0])\n",
    "    for k in range(1,len(split_list)):\n",
    "        result=result+' '+questionA(split_list[k])\n",
    "    return result"
   ]
  },
  {
   "cell_type": "code",
   "execution_count": 4,
   "metadata": {},
   "outputs": [
    {
     "data": {
      "text/plain": [
       "'ymmij si a doog nosrep'"
      ]
     },
     "execution_count": 4,
     "metadata": {},
     "output_type": "execute_result"
    }
   ],
   "source": [
    "questionB('jimmy is a good person')"
   ]
  },
  {
   "cell_type": "markdown",
   "metadata": {},
   "source": [
    "2. 請寫一個程式，Input 是一個數字，Output 是從 1 到這個數字，扣除掉所有 3 的倍數以及 5 的倍數，但是需要保留同時是 3 和 5 的倍數的總數字數。\n",
    "(加分題) 請為你的程式寫 unit test。"
   ]
  },
  {
   "cell_type": "code",
   "execution_count": 18,
   "metadata": {},
   "outputs": [],
   "source": [
    "def question2(number):\n",
    "    result=[]\n",
    "    for i in range(1,number+1):\n",
    "        if i%15==0:\n",
    "            result.append(i)\n",
    "        elif i%3==0 or i%5==0:\n",
    "            continue\n",
    "        else:\n",
    "            result.append(i)\n",
    "    return len(result)"
   ]
  },
  {
   "cell_type": "code",
   "execution_count": 21,
   "metadata": {},
   "outputs": [
    {
     "data": {
      "text/plain": [
       "3"
      ]
     },
     "execution_count": 21,
     "metadata": {},
     "output_type": "execute_result"
    }
   ],
   "source": [
    "question2(4)"
   ]
  },
  {
   "cell_type": "markdown",
   "metadata": {},
   "source": [
    "## Q3"
   ]
  },
  {
   "cell_type": "markdown",
   "metadata": {},
   "source": [
    "房間裡有三個袋子，一個只裝鉛筆，一個只裝原子筆，第三個有鉛筆也有原子筆。\n",
    "袋子是不透明的，單從袋子的外表上看不出任何差異，你不知道哪個袋子裝什麼。\n",
    "除了袋子上各貼了一個標示（\"鉛筆\"、\"原子筆\"、\"混和\"），且標示都是錯的\n",
    "（e.g. 標示鉛筆的袋子可能是混和的或是只裝原子筆）。\n",
    "你只能選一個袋子，拿出裡面一支筆，看是鉛筆還是原子筆，然後你要推論出這三\n",
    "個袋子分別的情況。請列出你的作法，以及解釋為什麼這樣可以找到答案。"
   ]
  },
  {
   "cell_type": "markdown",
   "metadata": {},
   "source": [
    "Answer"
   ]
  },
  {
   "cell_type": "markdown",
   "metadata": {},
   "source": [
    "#1.我會先打開「標示混合的袋子」確認裡面是鉛筆或原子筆，因為「標示混合的袋子」只有一種筆，所以拿出一支筆即可確認袋子的種類\n",
    "#2.若「標示混合的袋子」為「原子筆的袋子」，即可確認「標示鉛筆的袋子」內為「混合的袋子」，\n",
    "#3.因為「標示鉛筆的袋子」既非「原子筆的袋子」(因為原子筆在「標示混合的袋子」)，也非「鉛筆的袋子」(因為標示一定是錯的)\n",
    "#4.因此「標示鉛筆的袋子」為「混合的袋子」\n",
    "#5.最後因為「標示混合的袋子」為「原子筆的袋子」，「標示鉛筆的袋子」為「混合的袋子」，「標示原子筆的袋子」則為「鉛筆的袋子」\n",
    "#若(2)打開為「鉛筆的袋子」也可用同樣方法類推"
   ]
  },
  {
   "cell_type": "markdown",
   "metadata": {},
   "source": [
    "## Q4"
   ]
  },
  {
   "cell_type": "markdown",
   "metadata": {},
   "source": [
    "有三個人一起到迪士尼遊玩，中午肚子餓了，去餐廳點了一份現在最夯的冰雪奇緣\n",
    "雙人組，要價 900 元，付錢後，服務生發現今天套餐大特價，只要 750 元，因此\n",
    "服務生應該退還 150 元給這三個人，但是這位服務生一時鬼迷心竅，決定暗槓 60\n",
    "元，只退了 90 元給這三個遊客。\n",
    "那麼：三人各出 300 元 - 服務生還給他們一人 30 元 = 三人各出 270 元。270\n",
    "元 × 3 人+ 服務生私吞的 60 元 = 810 + 60 = 870 !? 怎麼不是 900 元呢？還\n",
    "有 30 元去哪了呢？請用敘述的方式，儘量清楚解釋問題出在哪裡。"
   ]
  },
  {
   "cell_type": "markdown",
   "metadata": {},
   "source": [
    "### Answer"
   ]
  },
  {
   "cell_type": "code",
   "execution_count": null,
   "metadata": {},
   "outputs": [],
   "source": [
    "#三人各出 270 元。270 元 × 3 人+ 服務生私吞的 60 元 \n",
    "#三人應該是各初280元"
   ]
  }
 ],
 "metadata": {
  "kernelspec": {
   "display_name": "Python 3",
   "language": "python",
   "name": "python3"
  },
  "language_info": {
   "codemirror_mode": {
    "name": "ipython",
    "version": 3
   },
   "file_extension": ".py",
   "mimetype": "text/x-python",
   "name": "python",
   "nbconvert_exporter": "python",
   "pygments_lexer": "ipython3",
   "version": "3.7.3"
  }
 },
 "nbformat": 4,
 "nbformat_minor": 4
}
